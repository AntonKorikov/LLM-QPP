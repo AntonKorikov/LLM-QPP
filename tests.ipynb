{
 "cells": [
  {
   "cell_type": "code",
   "execution_count": 8,
   "id": "c0c91db6-6525-4566-9b6d-83ccf539a9de",
   "metadata": {},
   "outputs": [],
   "source": [
    "import torch\n",
    "import torch.nn.functional as F\n",
    "\n",
    "a = torch.tensor([2,3,4],dtype=torch.float32).unsqueeze(0)\n",
    "b = torch.tensor([3,7,1],dtype=torch.float32).unsqueeze(0)\n"
   ]
  },
  {
   "cell_type": "code",
   "execution_count": 9,
   "id": "56fc4850-d07b-426b-ae9d-379924109840",
   "metadata": {},
   "outputs": [
    {
     "name": "stdout",
     "output_type": "stream",
     "text": [
      "cos: tensor([0.7494])\n"
     ]
    }
   ],
   "source": [
    "cos = F.cosine_similarity(a,b)\n",
    "print(f\"cos: {cos}\")"
   ]
  },
  {
   "cell_type": "code",
   "execution_count": 16,
   "id": "583e1d3d-5a5d-46ae-b37e-3d38c3e112ab",
   "metadata": {},
   "outputs": [
    {
     "name": "stdout",
     "output_type": "stream",
     "text": [
      "dot: tensor([[31.]])\n"
     ]
    }
   ],
   "source": [
    "dot = torch.matmul(a,b.T)\n",
    "print(f\"dot: {dot}\")"
   ]
  },
  {
   "cell_type": "code",
   "execution_count": 17,
   "id": "a8994d68-358b-4a82-a9bf-97dfa0fe86c8",
   "metadata": {},
   "outputs": [
    {
     "name": "stdout",
     "output_type": "stream",
     "text": [
      "Euclidean distance (using torch.dist): 5.099019527435303\n"
     ]
    }
   ],
   "source": [
    "euclidean_dist = torch.dist(a, b, p=2)\n",
    "print(f\"Euclidean distance (using torch.dist): {euclidean_dist}\")"
   ]
  },
  {
   "cell_type": "code",
   "execution_count": null,
   "id": "d755123d-3547-458c-9dea-98e5b30ffa91",
   "metadata": {},
   "outputs": [],
   "source": []
  }
 ],
 "metadata": {
  "kernelspec": {
   "display_name": "Python 3 (ipykernel)",
   "language": "python",
   "name": "python3"
  },
  "language_info": {
   "codemirror_mode": {
    "name": "ipython",
    "version": 3
   },
   "file_extension": ".py",
   "mimetype": "text/x-python",
   "name": "python",
   "nbconvert_exporter": "python",
   "pygments_lexer": "ipython3",
   "version": "3.10.11"
  }
 },
 "nbformat": 4,
 "nbformat_minor": 5
}
